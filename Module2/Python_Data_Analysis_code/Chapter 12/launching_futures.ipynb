{
 "cells": [
  {
   "cell_type": "code",
   "execution_count": null,
   "metadata": {
    "collapsed": true
   },
   "outputs": [],
   "source": [
    "import dautil as dl\n",
    "import ch12util\n",
    "from functools import partial\n",
    "import matplotlib.pyplot as plt\n",
    "import numpy as np\n",
    "from scipy.stats import skew\n",
    "import concurrent.futures\n",
    "from IPython.display import HTML"
   ]
  },
  {
   "cell_type": "code",
   "execution_count": null,
   "metadata": {
    "collapsed": true
   },
   "outputs": [],
   "source": [
    "STATS = []\n",
    "\n",
    "\n",
    "def resample(arr):\n",
    "    sample = ch12util.bootstrap(arr)\n",
    "    STATS.append((sample.mean(), sample.std(), skew(sample)))"
   ]
  },
  {
   "cell_type": "code",
   "execution_count": null,
   "metadata": {
    "collapsed": true
   },
   "outputs": [],
   "source": [
    "class Bootstrapper():\n",
    "    def __init__(self, data):\n",
    "        self.data = data\n",
    "        self.log = dl.log_api.conf_logger(__name__)\n",
    "\n",
    "    def run(self, index):\n",
    "        if index % 10 == 0:\n",
    "            self.log.debug('Bootstrap {}'.format(\n",
    "                index))\n",
    "\n",
    "        resample(self.data)"
   ]
  },
  {
   "cell_type": "code",
   "execution_count": null,
   "metadata": {
    "collapsed": true
   },
   "outputs": [],
   "source": [
    "def serial(arr, n):\n",
    "    for i in range(n):\n",
    "        resample(arr)"
   ]
  },
  {
   "cell_type": "code",
   "execution_count": null,
   "metadata": {
    "collapsed": true
   },
   "outputs": [],
   "source": [
    "def parallel(arr, n):\n",
    "    executor = concurrent.futures.ThreadPoolExecutor(max_workers=8)\n",
    "    bootstrapper = Bootstrapper(arr)\n",
    "\n",
    "    for x in executor.map(bootstrapper.run, range(n)):\n",
    "        pass\n",
    "\n",
    "    executor.shutdown()"
   ]
  },
  {
   "cell_type": "code",
   "execution_count": null,
   "metadata": {
    "collapsed": false
   },
   "outputs": [],
   "source": [
    "rain = dl.data.Weather.load()['RAIN'].dropna().values\n",
    "np.random.seed(33)\n",
    "parallel_times = ch12util.time_many(partial(parallel, rain))\n",
    "serial_times = ch12util.time_many(partial(serial, rain))"
   ]
  },
  {
   "cell_type": "code",
   "execution_count": null,
   "metadata": {
    "collapsed": false
   },
   "outputs": [],
   "source": [
    "%matplotlib inline\n",
    "dl.options.mimic_seaborn()\n",
    "context = dl.nb.Context('launching_futures')\n",
    "dl.nb.RcWidget(context)\n",
    "dl.nb.LabelWidget(2, 2, context)"
   ]
  },
  {
   "cell_type": "code",
   "execution_count": null,
   "metadata": {
    "collapsed": false
   },
   "outputs": [],
   "source": [
    "sp = dl.plotting.Subplotter(2, 2, context)\n",
    "ch12util.plot_times(sp.ax, serial_times, parallel_times)\n",
    "\n",
    "STATS = np.array(STATS)\n",
    "ch12util.plot_distro(sp.next_ax(), STATS.T[0], rain.mean())\n",
    "sp.label()\n",
    "\n",
    "ch12util.plot_distro(sp.next_ax(), STATS.T[1], rain.std())\n",
    "sp.label()\n",
    "\n",
    "ch12util.plot_distro(sp.next_ax(), STATS.T[2], skew(rain))\n",
    "sp.label()\n",
    "HTML(sp.exit())"
   ]
  },
  {
   "cell_type": "code",
   "execution_count": null,
   "metadata": {
    "collapsed": true
   },
   "outputs": [],
   "source": []
  }
 ],
 "metadata": {
  "kernelspec": {
   "display_name": "Python 3",
   "language": "python",
   "name": "python3"
  },
  "language_info": {
   "codemirror_mode": {
    "name": "ipython",
    "version": 3
   },
   "file_extension": ".py",
   "mimetype": "text/x-python",
   "name": "python",
   "nbconvert_exporter": "python",
   "pygments_lexer": "ipython3",
   "version": "3.4.3"
  }
 },
 "nbformat": 4,
 "nbformat_minor": 0
}
