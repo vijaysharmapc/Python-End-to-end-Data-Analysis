{
 "cells": [
  {
   "cell_type": "code",
   "execution_count": null,
   "metadata": {
    "collapsed": true
   },
   "outputs": [],
   "source": [
    "import dautil as dl\n",
    "import ch12util\n",
    "from functools import partial\n",
    "from queue import Queue\n",
    "from threading import Thread\n",
    "import matplotlib.pyplot as plt\n",
    "import numpy as np\n",
    "from scipy.stats import skew\n",
    "from IPython.display import HTML"
   ]
  },
  {
   "cell_type": "code",
   "execution_count": null,
   "metadata": {
    "collapsed": true
   },
   "outputs": [],
   "source": [
    "STATS = []\n",
    "\n",
    "\n",
    "def resample(arr):\n",
    "    sample = ch12util.bootstrap(arr)\n",
    "    STATS.append((sample.mean(), sample.std(), skew(sample)))"
   ]
  },
  {
   "cell_type": "code",
   "execution_count": null,
   "metadata": {
    "collapsed": false
   },
   "outputs": [],
   "source": [
    "class Bootstrapper(Thread):\n",
    "    def __init__(self, queue, data):\n",
    "        Thread.__init__(self)\n",
    "        self.queue = queue\n",
    "        self.data = data\n",
    "        self.log = dl.log_api.conf_logger(__name__)\n",
    "\n",
    "    def run(self):\n",
    "        while True:\n",
    "            index = self.queue.get()\n",
    "\n",
    "            if index % 10 == 0:\n",
    "                self.log.debug('Bootstrap {}'.format(\n",
    "                    index))\n",
    "\n",
    "            resample(self.data)\n",
    "            self.queue.task_done()"
   ]
  },
  {
   "cell_type": "code",
   "execution_count": null,
   "metadata": {
    "collapsed": true
   },
   "outputs": [],
   "source": [
    "def serial(arr, n):\n",
    "    for i in range(n):\n",
    "        resample(arr)"
   ]
  },
  {
   "cell_type": "code",
   "execution_count": null,
   "metadata": {
    "collapsed": true
   },
   "outputs": [],
   "source": [
    "def threaded(arr, n):\n",
    "    queue = Queue()\n",
    "\n",
    "    for x in range(8):\n",
    "        worker = Bootstrapper(queue, arr)\n",
    "        worker.daemon = True\n",
    "        worker.start()\n",
    "\n",
    "    for i in range(n):\n",
    "        queue.put(i)\n",
    "\n",
    "    queue.join()"
   ]
  },
  {
   "cell_type": "code",
   "execution_count": null,
   "metadata": {
    "collapsed": false
   },
   "outputs": [],
   "source": [
    "%matplotlib inline\n",
    "dl.options.mimic_seaborn()\n",
    "context = dl.nb.Context('running_threads')\n",
    "dl.nb.RcWidget(context)\n",
    "dl.nb.LabelWidget(2, 2, context)"
   ]
  },
  {
   "cell_type": "code",
   "execution_count": null,
   "metadata": {
    "collapsed": false
   },
   "outputs": [],
   "source": [
    "sp = dl.plotting.Subplotter(2, 2, context)\n",
    "temp = dl.data.Weather.load()['TEMP'].dropna().values\n",
    "np.random.seed(26)\n",
    "threaded_times = ch12util.time_many(partial(threaded, temp))\n",
    "serial_times = ch12util.time_many(partial(serial, temp))\n",
    "\n",
    "ch12util.plot_times(sp.ax, serial_times, threaded_times)\n",
    "\n",
    "stats_arr = np.array(STATS)\n",
    "ch12util.plot_distro(sp.next_ax(), stats_arr.T[0], temp.mean())\n",
    "sp.label()\n",
    "\n",
    "ch12util.plot_distro(sp.next_ax(), stats_arr.T[1], temp.std())\n",
    "sp.label()\n",
    "\n",
    "ch12util.plot_distro(sp.next_ax(), stats_arr.T[2], skew(temp))\n",
    "sp.label()\n",
    "\n",
    "HTML(sp.exit())"
   ]
  },
  {
   "cell_type": "code",
   "execution_count": null,
   "metadata": {
    "collapsed": true
   },
   "outputs": [],
   "source": []
  }
 ],
 "metadata": {
  "kernelspec": {
   "display_name": "Python 3",
   "language": "python",
   "name": "python3"
  },
  "language_info": {
   "codemirror_mode": {
    "name": "ipython",
    "version": 3
   },
   "file_extension": ".py",
   "mimetype": "text/x-python",
   "name": "python",
   "nbconvert_exporter": "python",
   "pygments_lexer": "ipython3",
   "version": "3.4.3"
  }
 },
 "nbformat": 4,
 "nbformat_minor": 0
}
