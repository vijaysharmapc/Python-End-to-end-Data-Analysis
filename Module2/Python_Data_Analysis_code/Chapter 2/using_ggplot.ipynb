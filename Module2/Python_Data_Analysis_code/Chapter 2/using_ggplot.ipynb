{
 "cells": [
  {
   "cell_type": "code",
   "execution_count": null,
   "metadata": {
    "collapsed": false
   },
   "outputs": [],
   "source": [
    "import pyggplot\n",
    "from dautil import data\n",
    "\n",
    "\n",
    "dawb = data.Worldbank()\n",
    "pop_grow = dawb.get_name('pop_grow')\n",
    "df = dawb.download(indicator=pop_grow, start=1984, end=2014)\n",
    "df = dawb.rename_columns(df, use_longnames=True)\n",
    "p = pyggplot.Plot(df)\n",
    "p.add_bar('country', dawb.get_longname(pop_grow), color='year')\n",
    "p.coord_flip()\n",
    "p.render_notebook()"
   ]
  }
 ],
 "metadata": {
  "kernelspec": {
   "display_name": "Python 3",
   "language": "python",
   "name": "python3"
  },
  "language_info": {
   "codemirror_mode": {
    "name": "ipython",
    "version": 3
   },
   "file_extension": ".py",
   "mimetype": "text/x-python",
   "name": "python",
   "nbconvert_exporter": "python",
   "pygments_lexer": "ipython3",
   "version": "3.4.3"
  }
 },
 "nbformat": 4,
 "nbformat_minor": 0
}
