{
 "cells": [
  {
   "cell_type": "code",
   "execution_count": null,
   "metadata": {
    "collapsed": true
   },
   "outputs": [],
   "source": [
    "import matplotlib.pyplot as plt\n",
    "import matplotlib as mpl\n",
    "from dautil import plotting"
   ]
  },
  {
   "cell_type": "code",
   "execution_count": null,
   "metadata": {
    "collapsed": false
   },
   "outputs": [],
   "source": [
    "%matplotlib inline\n",
    "fig, axes = plt.subplots(4, 4)\n",
    "cmaps = ['autumn', 'spring', 'summer', 'winter',\n",
    "         'Reds', 'Blues', 'Greens', 'Purples',\n",
    "         'Oranges', 'pink', 'Greys', 'gray',\n",
    "         'binary', 'bone', 'hot', 'cool']\n",
    "\n",
    "for ax, cm in zip(axes.ravel(), cmaps):\n",
    "    cmap = plt.cm.get_cmap(cm)\n",
    "    cb = mpl.colorbar.ColorbarBase(ax, cmap=cmap, \n",
    "                                   orientation='horizontal')\n",
    "    cb.set_label(cm)\n",
    "    ax.xaxis.set_ticklabels([])\n",
    "\n",
    "plt.tight_layout()"
   ]
  }
 ],
 "metadata": {
  "kernelspec": {
   "display_name": "Python 3",
   "language": "python",
   "name": "python3"
  },
  "language_info": {
   "codemirror_mode": {
    "name": "ipython",
    "version": 3
   },
   "file_extension": ".py",
   "mimetype": "text/x-python",
   "name": "python",
   "nbconvert_exporter": "python",
   "pygments_lexer": "ipython3",
   "version": "3.4.3"
  }
 },
 "nbformat": 4,
 "nbformat_minor": 0
}
