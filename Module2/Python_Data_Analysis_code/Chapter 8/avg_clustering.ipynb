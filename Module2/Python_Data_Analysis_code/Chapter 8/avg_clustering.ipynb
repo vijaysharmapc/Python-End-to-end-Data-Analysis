{
 "cells": [
  {
   "cell_type": "code",
   "execution_count": null,
   "metadata": {
    "collapsed": true
   },
   "outputs": [],
   "source": [
    "import networkx as nx\n",
    "import dautil as dl"
   ]
  },
  {
   "cell_type": "code",
   "execution_count": null,
   "metadata": {
    "collapsed": false
   },
   "outputs": [],
   "source": [
    "context = dl.nb.Context('avg_clustering')\n",
    "lr = dl.nb.LatexRenderer(chapter=8, start=5, context=context)\n",
    "lr.render(r'C_i = \\frac{\\lambda_G(v)}{\\tau_G(v)}')\n",
    "lr.render(r'\\bar{C} = \\frac{1}{n}\\sum_{i=1}^{n} C_i')"
   ]
  },
  {
   "cell_type": "code",
   "execution_count": null,
   "metadata": {
    "collapsed": false
   },
   "outputs": [],
   "source": [
    "fb_file = dl.data.SPANFB().load()\n",
    "G = nx.read_edgelist(fb_file,\n",
    "                     create_using=nx.Graph(),\n",
    "                     nodetype=int)"
   ]
  },
  {
   "cell_type": "code",
   "execution_count": null,
   "metadata": {
    "collapsed": false
   },
   "outputs": [],
   "source": [
    "print('Average Clustering',\n",
    "      nx.average_clustering(G))"
   ]
  }
 ],
 "metadata": {
  "kernelspec": {
   "display_name": "Python 3",
   "language": "python",
   "name": "python3"
  },
  "language_info": {
   "codemirror_mode": {
    "name": "ipython",
    "version": 3
   },
   "file_extension": ".py",
   "mimetype": "text/x-python",
   "name": "python",
   "nbconvert_exporter": "python",
   "pygments_lexer": "ipython3",
   "version": "3.4.3"
  }
 },
 "nbformat": 4,
 "nbformat_minor": 0
}
