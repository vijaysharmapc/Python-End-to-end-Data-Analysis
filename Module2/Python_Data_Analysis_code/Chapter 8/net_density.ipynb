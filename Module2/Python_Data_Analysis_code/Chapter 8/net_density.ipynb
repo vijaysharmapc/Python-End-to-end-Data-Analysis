{
 "cells": [
  {
   "cell_type": "code",
   "execution_count": null,
   "metadata": {
    "collapsed": true
   },
   "outputs": [],
   "source": [
    "import networkx as nx\n",
    "import dautil as dl"
   ]
  },
  {
   "cell_type": "code",
   "execution_count": null,
   "metadata": {
    "collapsed": false
   },
   "outputs": [],
   "source": [
    "context = dl.nb.Context('net_density')\n",
    "lr = dl.nb.LatexRenderer(chapter=8, context=context)\n",
    "lr.render(r'd = \\frac{2m}{n(n-1)}')\n",
    "lr.render(r'd = \\frac{m}{n(n-1)}')"
   ]
  },
  {
   "cell_type": "code",
   "execution_count": null,
   "metadata": {
    "collapsed": false
   },
   "outputs": [],
   "source": [
    "fb_file = dl.data.SPANFB().load()\n",
    "G = nx.read_edgelist(fb_file,\n",
    "                     create_using=nx.Graph(),\n",
    "                     nodetype=int)\n",
    "print('Density', nx.density(G))"
   ]
  }
 ],
 "metadata": {
  "kernelspec": {
   "display_name": "Python 3",
   "language": "python",
   "name": "python3"
  },
  "language_info": {
   "codemirror_mode": {
    "name": "ipython",
    "version": 3
   },
   "file_extension": ".py",
   "mimetype": "text/x-python",
   "name": "python",
   "nbconvert_exporter": "python",
   "pygments_lexer": "ipython3",
   "version": "3.4.3"
  }
 },
 "nbformat": 4,
 "nbformat_minor": 0
}
