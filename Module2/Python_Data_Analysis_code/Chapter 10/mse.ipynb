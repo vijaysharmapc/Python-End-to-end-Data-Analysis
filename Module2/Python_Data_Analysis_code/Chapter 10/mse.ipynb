{
 "cells": [
  {
   "cell_type": "code",
   "execution_count": null,
   "metadata": {
    "collapsed": true
   },
   "outputs": [],
   "source": [
    "from sklearn import metrics\n",
    "import ch10util\n",
    "from IPython.display import HTML\n",
    "import dautil as dl\n",
    "from IPython.display import HTML"
   ]
  },
  {
   "cell_type": "code",
   "execution_count": null,
   "metadata": {
    "collapsed": false
   },
   "outputs": [],
   "source": [
    "context = dl.nb.Context('mse')\n",
    "lr = dl.nb.LatexRenderer(chapter=10, start=6, context=context)\n",
    "lr.render(r'\\operatorname{MSE}=\\frac{1}{n}\\sum_{i=1}^n(\\hat{Y_i} - Y_i)^2')\n",
    "lr.render(r'\\text{MedAE}(y, \\hat{y}) = \\text{median}(\\mid y_1 - \\hat{y}_1 \\mid, \\ldots, \\mid y_n - \\hat{y}_n \\mid)')"
   ]
  },
  {
   "cell_type": "code",
   "execution_count": null,
   "metadata": {
    "collapsed": false
   },
   "outputs": [],
   "source": [
    "%matplotlib inline\n",
    "dl.options.mimic_seaborn()\n",
    "dl.nb.RcWidget(context)\n",
    "dl.nb.LabelWidget(3, 2, context)"
   ]
  },
  {
   "cell_type": "code",
   "execution_count": null,
   "metadata": {
    "collapsed": false
   },
   "outputs": [],
   "source": [
    "sp = dl.plotting.Subplotter(3, 2, context)\n",
    "ch10util.plot_bootstrap('boosting',\n",
    "                        metrics.mean_squared_error, sp.ax)\n",
    "sp.label()\n",
    "\n",
    "ch10util.plot_bootstrap('boosting',\n",
    "                        metrics.median_absolute_error, sp.next_ax())\n",
    "sp.label()\n",
    "\n",
    "ch10util.plot_bootstrap('etr',\n",
    "                        metrics.mean_squared_error, sp.next_ax())\n",
    "sp.label()\n",
    "\n",
    "ch10util.plot_bootstrap('etr',\n",
    "                        metrics.median_absolute_error, sp.next_ax())\n",
    "sp.label()\n",
    "\n",
    "ch10util.plot_bootstrap('ransac',\n",
    "                        metrics.mean_squared_error, sp.next_ax())\n",
    "sp.label()\n",
    "\n",
    "ch10util.plot_bootstrap('ransac',\n",
    "                        metrics.median_absolute_error, sp.next_ax())\n",
    "sp.label()\n",
    "sp.fig.text(0, 1, ch10util.regressors())\n",
    "HTML(sp.exit())"
   ]
  },
  {
   "cell_type": "code",
   "execution_count": null,
   "metadata": {
    "collapsed": true
   },
   "outputs": [],
   "source": []
  }
 ],
 "metadata": {
  "kernelspec": {
   "display_name": "Python 3",
   "language": "python",
   "name": "python3"
  },
  "language_info": {
   "codemirror_mode": {
    "name": "ipython",
    "version": 3
   },
   "file_extension": ".py",
   "mimetype": "text/x-python",
   "name": "python",
   "nbconvert_exporter": "python",
   "pygments_lexer": "ipython3",
   "version": "3.4.3"
  }
 },
 "nbformat": 4,
 "nbformat_minor": 0
}
