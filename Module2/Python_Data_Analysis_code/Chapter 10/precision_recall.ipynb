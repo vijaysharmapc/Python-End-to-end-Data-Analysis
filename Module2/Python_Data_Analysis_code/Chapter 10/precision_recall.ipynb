{
 "cells": [
  {
   "cell_type": "code",
   "execution_count": null,
   "metadata": {
    "collapsed": true
   },
   "outputs": [],
   "source": [
    "import numpy as np\n",
    "from sklearn import metrics\n",
    "import ch10util\n",
    "import dautil as dl\n",
    "from IPython.display import HTML"
   ]
  },
  {
   "cell_type": "code",
   "execution_count": null,
   "metadata": {
    "collapsed": false
   },
   "outputs": [],
   "source": [
    "context = dl.nb.Context('precision_recall')\n",
    "lr = dl.nb.LatexRenderer(chapter=10, context=context)\n",
    "lr.render(r'\\text{Accuracy}=\\frac{T_p+T_n}{T_p+T_n+F_p+F_n}')\n",
    "lr.render(r'\\text{Precision}=\\frac{T_p}{T_p+F_p}')\n",
    "lr.render(r'\\text{Recall}=\\frac{T_p}{T_p+T_n}')\n",
    "lr.render(r'F_1 = 2 \\cdot \\frac{\\mathrm{precision} \\cdot \\mathrm{recall}}{\\mathrm{precision} + \\mathrm{recall}}')"
   ]
  },
  {
   "cell_type": "code",
   "execution_count": null,
   "metadata": {
    "collapsed": true
   },
   "outputs": [],
   "source": [
    "y_test = np.load('rain_y_test.npy')\n",
    "accuracies = [metrics.accuracy_score(y_test, preds)\n",
    "              for preds in ch10util.rain_preds()]\n",
    "precisions = [metrics.precision_score(y_test, preds)\n",
    "              for preds in ch10util.rain_preds()]\n",
    "recalls = [metrics.recall_score(y_test, preds)\n",
    "           for preds in ch10util.rain_preds()]\n",
    "f1s = [metrics.f1_score(y_test, preds)\n",
    "       for preds in ch10util.rain_preds()]"
   ]
  },
  {
   "cell_type": "code",
   "execution_count": null,
   "metadata": {
    "collapsed": false
   },
   "outputs": [],
   "source": [
    "%matplotlib inline\n",
    "dl.options.mimic_seaborn()\n",
    "dl.nb.RcWidget(context)\n",
    "dl.nb.LabelWidget(2, 2, context)"
   ]
  },
  {
   "cell_type": "code",
   "execution_count": null,
   "metadata": {
    "collapsed": false
   },
   "outputs": [],
   "source": [
    "sp = dl.plotting.Subplotter(2, 2, context)\n",
    "ch10util.plot_bars(sp.ax, accuracies)\n",
    "sp.label()\n",
    "\n",
    "ch10util.plot_bars(sp.next_ax(), precisions)\n",
    "sp.label()\n",
    "\n",
    "ch10util.plot_bars(sp.next_ax(), recalls)\n",
    "sp.label()\n",
    "\n",
    "ch10util.plot_bars(sp.next_ax(), f1s)\n",
    "sp.label()\n",
    "sp.fig.text(0, 1, ch10util.classifiers())\n",
    "HTML(sp.exit())"
   ]
  },
  {
   "cell_type": "code",
   "execution_count": null,
   "metadata": {
    "collapsed": true
   },
   "outputs": [],
   "source": []
  }
 ],
 "metadata": {
  "kernelspec": {
   "display_name": "Python 3",
   "language": "python",
   "name": "python3"
  },
  "language_info": {
   "codemirror_mode": {
    "name": "ipython",
    "version": 3
   },
   "file_extension": ".py",
   "mimetype": "text/x-python",
   "name": "python",
   "nbconvert_exporter": "python",
   "pygments_lexer": "ipython3",
   "version": "3.4.3"
  }
 },
 "nbformat": 4,
 "nbformat_minor": 0
}
