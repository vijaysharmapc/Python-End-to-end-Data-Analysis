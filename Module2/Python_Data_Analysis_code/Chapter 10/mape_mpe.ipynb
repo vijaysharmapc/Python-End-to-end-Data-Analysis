{
 "cells": [
  {
   "cell_type": "code",
   "execution_count": null,
   "metadata": {
    "collapsed": true
   },
   "outputs": [],
   "source": [
    "import ch10util\n",
    "import dautil as dl\n",
    "from IPython.display import HTML"
   ]
  },
  {
   "cell_type": "code",
   "execution_count": null,
   "metadata": {
    "collapsed": false
   },
   "outputs": [],
   "source": [
    "context = dl.nb.Context('mape_mpe')\n",
    "lr = dl.nb.LatexRenderer(chapter=10, start=9, context=context)\n",
    "lr.render(r'\\text{MPE} = \\frac{100\\%}{n}\\sum_{t=1}^n \\frac{a_t-f_t}{a_t}')\n",
    "lr.render(r'\\mbox{MAPE} = \\frac{1}{n}\\sum_{t=1}^n  \\left|\\frac{A_t-F_t}{A_t}\\right|')"
   ]
  },
  {
   "cell_type": "code",
   "execution_count": null,
   "metadata": {
    "collapsed": false
   },
   "outputs": [],
   "source": [
    "%matplotlib inline\n",
    "dl.options.mimic_seaborn()\n",
    "dl.nb.RcWidget(context)\n",
    "dl.nb.LabelWidget(3, 2, context)"
   ]
  },
  {
   "cell_type": "code",
   "execution_count": null,
   "metadata": {
    "collapsed": false
   },
   "outputs": [],
   "source": [
    "sp = dl.plotting.Subplotter(3, 2, context)\n",
    "ch10util.plot_bootstrap('boosting',\n",
    "                        dl.stats.mape, sp.ax)\n",
    "sp.label()\n",
    "\n",
    "ch10util.plot_bootstrap('boosting',\n",
    "                        dl.stats.mpe, sp.next_ax())\n",
    "sp.label()\n",
    "\n",
    "ch10util.plot_bootstrap('etr',\n",
    "                        dl.stats.mape, sp.next_ax())\n",
    "sp.label()\n",
    "\n",
    "ch10util.plot_bootstrap('etr',\n",
    "                        dl.stats.mpe, sp.next_ax())\n",
    "sp.label()\n",
    "\n",
    "ch10util.plot_bootstrap('ransac',\n",
    "                        dl.stats.mape, sp.next_ax())\n",
    "sp.label()\n",
    "\n",
    "ch10util.plot_bootstrap('ransac',\n",
    "                        dl.stats.mpe, sp.next_ax())\n",
    "sp.label()\n",
    "sp.fig.text(0, 1, ch10util.regressors())\n",
    "HTML(sp.exit())"
   ]
  },
  {
   "cell_type": "code",
   "execution_count": null,
   "metadata": {
    "collapsed": true
   },
   "outputs": [],
   "source": []
  }
 ],
 "metadata": {
  "kernelspec": {
   "display_name": "Python 3",
   "language": "python",
   "name": "python3"
  },
  "language_info": {
   "codemirror_mode": {
    "name": "ipython",
    "version": 3
   },
   "file_extension": ".py",
   "mimetype": "text/x-python",
   "name": "python",
   "nbconvert_exporter": "python",
   "pygments_lexer": "ipython3",
   "version": "3.4.3"
  }
 },
 "nbformat": 4,
 "nbformat_minor": 0
}
