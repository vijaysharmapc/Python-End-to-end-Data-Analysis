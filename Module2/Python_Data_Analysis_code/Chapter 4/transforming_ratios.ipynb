{
 "cells": [
  {
   "cell_type": "code",
   "execution_count": null,
   "metadata": {
    "collapsed": true
   },
   "outputs": [],
   "source": [
    "import dautil as dl\n",
    "import seaborn as sns\n",
    "import matplotlib.pyplot as plt\n",
    "import pandas as pd\n",
    "import math\n",
    "import statsmodels.api as sm\n",
    "from scipy.special import logit\n",
    "from IPython.display import HTML"
   ]
  },
  {
   "cell_type": "code",
   "execution_count": null,
   "metadata": {
    "collapsed": false
   },
   "outputs": [],
   "source": [
    "context = dl.nb.Context('transforming_ratios')\n",
    "lr = dl.LatexRenderer(chapter=4, start=4, context=context)\n",
    "lr.render(r'\\operatorname{logit}(p)=\\log\\left( \\frac{p}{1-p} \\right) =\\log(p)-\\log(1-p)=-\\log\\left( \\frac{1}{p} - 1\\right)')"
   ]
  },
  {
   "cell_type": "code",
   "execution_count": null,
   "metadata": {
    "collapsed": true
   },
   "outputs": [],
   "source": [
    "rain = dl.data.Weather.load()['RAIN'].dropna()\n",
    "rain = rain > 0\n",
    "rain = rain.resample('M').dropna()\n",
    "transformed = rain.apply(logit)\n",
    "transformed = dl.data.dropinf(transformed.values)"
   ]
  },
  {
   "cell_type": "code",
   "execution_count": null,
   "metadata": {
    "collapsed": false
   },
   "outputs": [],
   "source": [
    "%matplotlib inline\n",
    "dl.nb.RcWidget(context)\n",
    "dl.nb.LabelWidget(2, 2, context)"
   ]
  },
  {
   "cell_type": "code",
   "execution_count": null,
   "metadata": {
    "collapsed": false
   },
   "outputs": [],
   "source": [
    "sp = dl.plotting.Subplotter(2, 2, context)\n",
    "sns.distplot(rain, ax=sp.ax)\n",
    "sp.label()\n",
    "\n",
    "sp.label(advance=True)\n",
    "sns.distplot(transformed, ax=sp.ax)\n",
    "\n",
    "sp.label(advance=True)\n",
    "sm.qqplot(rain, line='s', ax=sp.ax)\n",
    "\n",
    "sp.label(advance=True)\n",
    "sm.qqplot(transformed, line='s', ax=sp.ax)\n",
    "plt.tight_layout()\n",
    "HTML(dl.report.HTMLBuilder().watermark())"
   ]
  },
  {
   "cell_type": "code",
   "execution_count": null,
   "metadata": {
    "collapsed": true
   },
   "outputs": [],
   "source": []
  }
 ],
 "metadata": {
  "kernelspec": {
   "display_name": "Python 3",
   "language": "python",
   "name": "python3"
  },
  "language_info": {
   "codemirror_mode": {
    "name": "ipython",
    "version": 3
   },
   "file_extension": ".py",
   "mimetype": "text/x-python",
   "name": "python",
   "nbconvert_exporter": "python",
   "pygments_lexer": "ipython3",
   "version": "3.4.3"
  }
 },
 "nbformat": 4,
 "nbformat_minor": 0
}
