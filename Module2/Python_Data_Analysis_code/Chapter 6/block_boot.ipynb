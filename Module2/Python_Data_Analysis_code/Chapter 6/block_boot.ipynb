{
 "cells": [
  {
   "cell_type": "code",
   "execution_count": null,
   "metadata": {
    "collapsed": true
   },
   "outputs": [],
   "source": [
    "import dautil as dl\n",
    "import random\n",
    "import matplotlib.pyplot as plt\n",
    "import pandas as pd\n",
    "import numpy as np\n",
    "import seaborn as sns\n",
    "import ch6util\n",
    "from IPython.display import HTML"
   ]
  },
  {
   "cell_type": "code",
   "execution_count": null,
   "metadata": {
    "collapsed": true
   },
   "outputs": [],
   "source": [
    "def shuffle(temp, blocks):\n",
    "    random.shuffle(blocks)\n",
    "    df = pd.DataFrame({'TEMP': dl.collect.flatten(blocks)},\n",
    "                      index=temp.index)\n",
    "    df = df.resample('A')\n",
    "\n",
    "    return df"
   ]
  },
  {
   "cell_type": "code",
   "execution_count": null,
   "metadata": {
    "collapsed": true
   },
   "outputs": [],
   "source": [
    "temp = dl.data.Weather.load()['TEMP'].resample('M').dropna()\n",
    "blocks = list(dl.collect.chunk(temp.values, 100))\n",
    "random.seed(12033)"
   ]
  },
  {
   "cell_type": "code",
   "execution_count": null,
   "metadata": {
    "collapsed": false
   },
   "outputs": [],
   "source": [
    "%matplotlib inline\n",
    "context = dl.nb.Context('block_boot')\n",
    "dl.nb.RcWidget(context)\n",
    "dl.nb.LabelWidget(2, 2, context)"
   ]
  },
  {
   "cell_type": "code",
   "execution_count": null,
   "metadata": {
    "collapsed": false
   },
   "outputs": [],
   "source": [
    "sp = dl.plotting.Subplotter(2, 2, context)\n",
    "cp = dl.plotting.CyclePlotter(sp.ax)\n",
    "medians = []\n",
    "slopes = []\n",
    "\n",
    "for i in range(240):\n",
    "    df = shuffle(temp, blocks)\n",
    "    slopes.append(ch6util.fit(df))\n",
    "    medians.append(ch6util.diff_median(df))\n",
    "    \n",
    "    if i < 5:\n",
    "        cp.plot(df.index, df.values)\n",
    "        \n",
    "sp.label(ylabel_params=dl.data.Weather.get_header('TEMP'))\n",
    "\n",
    "sns.distplot(medians, ax=sp.next_ax(), norm_hist=True)\n",
    "sp.label()\n",
    "\n",
    "sns.distplot(slopes, ax=sp.next_ax(), norm_hist=True)\n",
    "sp.label()\n",
    "\n",
    "mins = []\n",
    "tops = []\n",
    "xrng = range(30, len(medians))\n",
    "\n",
    "for i in xrng:\n",
    "    min, max = dl.stats.outliers(medians[:i])\n",
    "    mins.append(min)\n",
    "    tops.append(max)\n",
    "\n",
    "cp = dl.plotting.CyclePlotter(sp.next_ax())\n",
    "cp.plot(xrng, mins, label='5 %')\n",
    "cp.plot(xrng, tops, label='95 %')\n",
    "sp.label()\n",
    "HTML(sp.exit())"
   ]
  },
  {
   "cell_type": "code",
   "execution_count": null,
   "metadata": {
    "collapsed": true
   },
   "outputs": [],
   "source": []
  }
 ],
 "metadata": {
  "kernelspec": {
   "display_name": "Python 3",
   "language": "python",
   "name": "python3"
  },
  "language_info": {
   "codemirror_mode": {
    "name": "ipython",
    "version": 3
   },
   "file_extension": ".py",
   "mimetype": "text/x-python",
   "name": "python",
   "nbconvert_exporter": "python",
   "pygments_lexer": "ipython3",
   "version": "3.4.3"
  }
 },
 "nbformat": 4,
 "nbformat_minor": 0
}
